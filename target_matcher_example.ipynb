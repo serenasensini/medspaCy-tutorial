{
 "cells": [
  {
   "cell_type": "code",
   "execution_count": 159,
   "outputs": [],
   "source": [
    "# load the libraries\n",
    "import medspacy\n",
    "from medspacy.ner import TargetRule\n",
    "from medspacy.visualization import visualize_ent"
   ],
   "metadata": {
    "collapsed": false,
    "pycharm": {
     "name": "#%%\n"
    }
   }
  },
  {
   "cell_type": "code",
   "execution_count": 160,
   "outputs": [],
   "source": [
    "import pandas as pd"
   ],
   "metadata": {
    "collapsed": false,
    "pycharm": {
     "name": "#%%\n"
    }
   }
  },
  {
   "cell_type": "code",
   "execution_count": 161,
   "outputs": [],
   "source": [
    "# load the model and the piples\n",
    "nlp = medspacy.load()\n",
    "target_matcher = nlp.get_pipe(\"medspacy_target_matcher\")"
   ],
   "metadata": {
    "collapsed": false,
    "pycharm": {
     "name": "#%%\n"
    }
   }
  },
  {
   "cell_type": "code",
   "execution_count": 162,
   "outputs": [],
   "source": [
    "# load the dataset\n",
    "df = pd.read_table(\"./input/test.dat\", header=None)\n",
    "\n",
    "# get the first 3 lines\n",
    "partial_df = df[0:3]"
   ],
   "metadata": {
    "collapsed": false,
    "pycharm": {
     "name": "#%%\n"
    }
   }
  },
  {
   "cell_type": "code",
   "execution_count": null,
   "outputs": [],
   "source": [
    "# load encoding\n",
    "from spacy.tokens import Span\n",
    "\n",
    "Span.set_extension(\"icd10\", default=\"\", force=True)"
   ],
   "metadata": {
    "collapsed": false,
    "pycharm": {
     "name": "#%%\n"
    }
   }
  },
  {
   "cell_type": "code",
   "execution_count": 163,
   "outputs": [],
   "source": [
    "# define some custom rules\n",
    "target_rules = [\n",
    "    TargetRule(\"Diabetes\", category=\"PROBLEM\",\n",
    "               pattern=[\n",
    "                   {\"LOWER\": \"diabetes\"},\n",
    "                   {\"LOWER\": {\"IN\": [\"diabetes\", \"diabetic\"]}},\n",
    "               ],\n",
    "               attributes={\"icd10\": \"E11.9\"}),\n",
    "    TargetRule(\"Bell's palsy\", category=\"PROBLEM\",\n",
    "               pattern=[\n",
    "                   {\"LOWER\": \"bell\", \"OP\": \"?\"},\n",
    "                   {\"LOWER\": \"palsy\"}\n",
    "               ],\n",
    "               attributes={\"icd10\": \"G80.9\"}),\n",
    "    TargetRule(\"Hypertension\", category=\"PROBLEM\",\n",
    "               pattern=[\n",
    "                   {\"LOWER\": \"high\"},\n",
    "                   {\"LOWER\": {\"IN\": [\"blood\", \"bp\"]}},\n",
    "                   {\"LOWER\": \"pressure\", \"OP\": \"?\"}\n",
    "               ],\n",
    "               attributes={\"icd10\": \"I10\"}),\n",
    "    TargetRule(\"Heart Disease\", category=\"PROBLEM\",\n",
    "               pattern=[\n",
    "                   {\"LOWER\": \"heart\"},\n",
    "                   {\"LOWER\": {\"IN\": [\"disease\", \"attack\"]}},\n",
    "               ],\n",
    "               attributes={\"icd10\": \"I51.9\"}),\n",
    "    TargetRule(\"Buccal Abscess\", category=\"PROBLEM\",\n",
    "               pattern=[\n",
    "                   {\"LOWER\": \"buccal\"},\n",
    "                   {\"LOWER\": {\"IN\": [\"abscess\", \"abscesses\"]}},\n",
    "               ],\n",
    "               attributes={\"icd10\": \"K12. 2\"}),\n",
    "    TargetRule(\"Intracranial fibromatosis\", category=\"PROBLEM\",\n",
    "               pattern=[\n",
    "                   {\"LOWER\": \"intracranial fibromatosis\"},\n",
    "                   {\"LOWER\": {\"IN\": [\"intracranial\", \"cranial\", \"fibromatosis\"]}},\n",
    "               ],\n",
    "               attributes={\"icd10\": \"D36.10\"}),\n",
    "    TargetRule(\"Idiopathic facial paralysis\", category=\"PROBLEM\",\n",
    "               pattern=[\n",
    "                   {\"LOWER\": \"idiopathic\", \"OP\": \"?\"},\n",
    "                   {\"LOWER\": \"facial\", \"OP\": \"?\"},\n",
    "                   {\"LOWER\": {\"IN\": [\"paralysis\", \"palsy\"]}},\n",
    "               ],\n",
    "               attributes={\"icd10\": \"D36.10\"}),\n",
    "    TargetRule(\"corticosteroids\", category=\"MEDICATION\",\n",
    "               pattern=[\n",
    "                   {\"LOWER\": \"oral\"},\n",
    "                   {\"LOWER\": \"corticosteroids\"}\n",
    "               ],\n",
    "               attributes={\"icd10\": \"D36.10\"}),\n",
    "    TargetRule(\"acute unilateral facial weakness\", category=\"PROBLEM\",\n",
    "               pattern=[\n",
    "                   {\"LOWER\": {\"IN\": [\"acute\", \"unilateral\", \"bilateral\"]}, \"OP\": \"?\"},\n",
    "                   {\"LOWER\": \"facial\"},\n",
    "                   {\"LOWER\": \"weakness\"}\n",
    "               ],\n",
    "               attributes={\"icd10\": \"R29.810\"}),\n",
    "    TargetRule(\"stroke\", category=\"PROBLEM\",\n",
    "               pattern=[\n",
    "                   {\"LOWER\": \"stroke\"}\n",
    "               ],\n",
    "               attributes={\"icd10\": \"I63.9\"}),\n",
    "    TargetRule(\"eye protection\", category=\"TREATMENT\",\n",
    "               pattern=[\n",
    "                   {\"LOWER\": \"eye\"},\n",
    "                   {\"LOWER\": \"protection\"}\n",
    "               ]),\n",
    "    TargetRule(\"limbal dermoid\", category=\"PROBLEM\",\n",
    "               pattern=[\n",
    "                   {\"LOWER\": {\"IN\": [\"unilateral\", \"bilateral\"]}, \"OP\": \"?\"},\n",
    "                   {\"LOWER\": \"epilbular\", \"OP\": \"?\"},\n",
    "                   {\"LOWER\": \"limbal\"},\n",
    "                   {\"LOWER\": {\"IN\": [\"dermoid\", \"dermoids\"]}}\n",
    "               ]),\n",
    "    TargetRule(\"visual acuity\", category=\"PROBLEM\",\n",
    "               pattern=[\n",
    "                   {\"LOWER\": \"visual\", \"OP\": \"?\"},\n",
    "                   {\"LOWER\": \"acuity\"},\n",
    "               ]),\n",
    "    TargetRule(\"astigmatism\", category=\"PROBLEM\",\n",
    "               pattern=[\n",
    "                   {\"LOWER\": \"astigmatism\"},\n",
    "               ]),\n",
    "    TargetRule(\"epithelial defects\", category=\"PROBLEM\",\n",
    "               pattern=[\n",
    "                   {\"LOWER\": \"corneal\", \"OP\": \"?\"},\n",
    "                   {\"LOWER\": \"astigmatism\"},\n",
    "                   {\"LOWER\": \"defects\"},\n",
    "               ]),\n",
    "    TargetRule(\"corneal vascularization\", category=\"PROBLEM\",\n",
    "               pattern=[\n",
    "                   {\"LOWER\": \"corneal\", \"OP\": \"?\"},\n",
    "                   {\"LOWER\": \"vascularization\"}\n",
    "               ]),\n",
    "    TargetRule(\"topical lubrication\", category=\"TREATMENT\",\n",
    "               pattern=[\n",
    "                   {\"LOWER\": \"topical\", \"OP\": \"?\"},\n",
    "                   {\"LOWER\": \"lubrication\"}\n",
    "               ]),\n",
    "    TargetRule(\"excision\", category=\"TREATMENT\",\n",
    "               pattern=[\n",
    "                   {\"LOWER\": \"excision\"}\n",
    "               ])\n",
    "]"
   ],
   "metadata": {
    "collapsed": false,
    "pycharm": {
     "name": "#%%\n"
    }
   }
  },
  {
   "cell_type": "code",
   "execution_count": 164,
   "outputs": [],
   "source": [
    "# add custom rules to pipelines\n",
    "target_matcher.add(target_rules)"
   ],
   "metadata": {
    "collapsed": false,
    "pycharm": {
     "name": "#%%\n"
    }
   }
  },
  {
   "cell_type": "code",
   "execution_count": 165,
   "outputs": [
    {
     "name": "stdout",
     "output_type": "stream",
     "text": [
      "Sentence: Excision of limbal dermoids. We reviewed the clinical files of 10 patients who had undergone excision of unilateral epibulbar limbal dermoids. These complications do not outweigh the cosmetic and visual benefits of dermoid excision in selected patients. Treatment of limbal dermoids may consist of periodic removal of irritating cilia, topical lubrication to prevent foreign body sensation, or excision of the lesion if it is causing significant cosmetic disfigurement or interfering with vision. Treatment of limbal dermoids may consist of periodic removal of irritating cilia, topical lubrication to prevent foreign body sensation, or excision of the lesion if it is causing significant cosmetic disfigurement or interfering with vision.\n",
      "Excision False False\n",
      "limbal dermoids False False\n",
      "excision False False\n",
      "limbal dermoids False False\n",
      "excision True False\n",
      "limbal dermoids False False\n",
      "topical lubrication False False\n",
      "excision False False\n",
      "limbal dermoids False False\n",
      "topical lubrication False False\n",
      "excision False False\n"
     ]
    },
    {
     "data": {
      "text/plain": "<IPython.core.display.HTML object>",
      "text/html": "<span class=\"tex2jax_ignore\"><div class=\"entities\" style=\"line-height: 2.5; direction: ltr\">\n<mark class=\"entity\" style=\"background: #2ca02c; padding: 0.45em 0.6em; margin: 0 0.25em; line-height: 1; border-radius: 0.35em;\">\n    Excision\n    <span style=\"font-size: 0.8em; font-weight: bold; line-height: 1; border-radius: 0.35em; vertical-align: middle; margin-left: 0.5rem\">TREATMENT</span>\n</mark>\n of \n<mark class=\"entity\" style=\"background: #ff7f0e; padding: 0.45em 0.6em; margin: 0 0.25em; line-height: 1; border-radius: 0.35em;\">\n    limbal dermoids\n    <span style=\"font-size: 0.8em; font-weight: bold; line-height: 1; border-radius: 0.35em; vertical-align: middle; margin-left: 0.5rem\">PROBLEM</span>\n</mark>\n. We reviewed the clinical files of 10 patients who had undergone \n<mark class=\"entity\" style=\"background: #2ca02c; padding: 0.45em 0.6em; margin: 0 0.25em; line-height: 1; border-radius: 0.35em;\">\n    excision\n    <span style=\"font-size: 0.8em; font-weight: bold; line-height: 1; border-radius: 0.35em; vertical-align: middle; margin-left: 0.5rem\">TREATMENT</span>\n</mark>\n of unilateral epibulbar \n<mark class=\"entity\" style=\"background: #ff7f0e; padding: 0.45em 0.6em; margin: 0 0.25em; line-height: 1; border-radius: 0.35em;\">\n    limbal dermoids\n    <span style=\"font-size: 0.8em; font-weight: bold; line-height: 1; border-radius: 0.35em; vertical-align: middle; margin-left: 0.5rem\">PROBLEM</span>\n</mark>\n. These complications do \n<mark class=\"entity\" style=\"background: #1f77b4; padding: 0.45em 0.6em; margin: 0 0.25em; line-height: 1; border-radius: 0.35em;\">\n    not\n    <span style=\"font-size: 0.8em; font-weight: bold; line-height: 1; border-radius: 0.35em; vertical-align: middle; margin-left: 0.5rem\">NEGATED_EXISTENCE</span>\n</mark>\n outweigh the cosmetic and visual benefits of dermoid \n<mark class=\"entity\" style=\"background: #2ca02c; padding: 0.45em 0.6em; margin: 0 0.25em; line-height: 1; border-radius: 0.35em;\">\n    excision\n    <span style=\"font-size: 0.8em; font-weight: bold; line-height: 1; border-radius: 0.35em; vertical-align: middle; margin-left: 0.5rem\">TREATMENT</span>\n</mark>\n in selected patients. Treatment of \n<mark class=\"entity\" style=\"background: #ff7f0e; padding: 0.45em 0.6em; margin: 0 0.25em; line-height: 1; border-radius: 0.35em;\">\n    limbal dermoids\n    <span style=\"font-size: 0.8em; font-weight: bold; line-height: 1; border-radius: 0.35em; vertical-align: middle; margin-left: 0.5rem\">PROBLEM</span>\n</mark>\n may consist of periodic removal of irritating cilia, \n<mark class=\"entity\" style=\"background: #2ca02c; padding: 0.45em 0.6em; margin: 0 0.25em; line-height: 1; border-radius: 0.35em;\">\n    topical lubrication\n    <span style=\"font-size: 0.8em; font-weight: bold; line-height: 1; border-radius: 0.35em; vertical-align: middle; margin-left: 0.5rem\">TREATMENT</span>\n</mark>\n to prevent foreign body sensation, or \n<mark class=\"entity\" style=\"background: #2ca02c; padding: 0.45em 0.6em; margin: 0 0.25em; line-height: 1; border-radius: 0.35em;\">\n    excision\n    <span style=\"font-size: 0.8em; font-weight: bold; line-height: 1; border-radius: 0.35em; vertical-align: middle; margin-left: 0.5rem\">TREATMENT</span>\n</mark>\n of the lesion if it is causing significant cosmetic disfigurement or interfering with vision. Treatment of \n<mark class=\"entity\" style=\"background: #ff7f0e; padding: 0.45em 0.6em; margin: 0 0.25em; line-height: 1; border-radius: 0.35em;\">\n    limbal dermoids\n    <span style=\"font-size: 0.8em; font-weight: bold; line-height: 1; border-radius: 0.35em; vertical-align: middle; margin-left: 0.5rem\">PROBLEM</span>\n</mark>\n may consist of periodic removal of irritating cilia, \n<mark class=\"entity\" style=\"background: #2ca02c; padding: 0.45em 0.6em; margin: 0 0.25em; line-height: 1; border-radius: 0.35em;\">\n    topical lubrication\n    <span style=\"font-size: 0.8em; font-weight: bold; line-height: 1; border-radius: 0.35em; vertical-align: middle; margin-left: 0.5rem\">TREATMENT</span>\n</mark>\n to prevent foreign body sensation, or \n<mark class=\"entity\" style=\"background: #2ca02c; padding: 0.45em 0.6em; margin: 0 0.25em; line-height: 1; border-radius: 0.35em;\">\n    excision\n    <span style=\"font-size: 0.8em; font-weight: bold; line-height: 1; border-radius: 0.35em; vertical-align: middle; margin-left: 0.5rem\">TREATMENT</span>\n</mark>\n of the lesion if it is causing significant cosmetic disfigurement or interfering with vision.</div></span>"
     },
     "metadata": {},
     "output_type": "display_data"
    },
    {
     "name": "stdout",
     "output_type": "stream",
     "text": [
      "###################\n",
      "Sentence: Past medical history: type II Diabetes Mellitus. Bell's palsy. There's no evidence of stroke. A diagnosis of exclusion. In cases of acute unilateral facial weakness, a careful and systematic evaluation is necessary to identify the cause. Idiopathic facial paralysis (Bell's palsy) is a diagnosis of exclusion. It is also the most common cause of unilateral facial weakness seen by primary care physicians. The most important aspect of initial treatment is eye protection. Administration of systemic oral corticosteroids may lessen severity and duration of symptoms.\n",
      "palsy False False\n",
      "stroke True False\n",
      "unilateral facial weakness False False\n",
      "Idiopathic facial paralysis False False\n",
      "palsy False False\n",
      "unilateral facial weakness False False\n",
      "eye protection False False\n",
      "oral corticosteroids False False\n"
     ]
    },
    {
     "data": {
      "text/plain": "<IPython.core.display.HTML object>",
      "text/html": "<span class=\"tex2jax_ignore\"><div class=\"entities\" style=\"line-height: 2.5; direction: ltr\">Past medical history: type II Diabetes Mellitus. Bell's \n<mark class=\"entity\" style=\"background: #2ca02c; padding: 0.45em 0.6em; margin: 0 0.25em; line-height: 1; border-radius: 0.35em;\">\n    palsy\n    <span style=\"font-size: 0.8em; font-weight: bold; line-height: 1; border-radius: 0.35em; vertical-align: middle; margin-left: 0.5rem\">PROBLEM</span>\n</mark>\n. There's \n<mark class=\"entity\" style=\"background: #ff7f0e; padding: 0.45em 0.6em; margin: 0 0.25em; line-height: 1; border-radius: 0.35em;\">\n    no evidence of\n    <span style=\"font-size: 0.8em; font-weight: bold; line-height: 1; border-radius: 0.35em; vertical-align: middle; margin-left: 0.5rem\">NEGATED_EXISTENCE</span>\n</mark>\n \n<mark class=\"entity\" style=\"background: #2ca02c; padding: 0.45em 0.6em; margin: 0 0.25em; line-height: 1; border-radius: 0.35em;\">\n    stroke\n    <span style=\"font-size: 0.8em; font-weight: bold; line-height: 1; border-radius: 0.35em; vertical-align: middle; margin-left: 0.5rem\">PROBLEM</span>\n</mark>\n. A diagnosis of exclusion. In cases of acute \n<mark class=\"entity\" style=\"background: #2ca02c; padding: 0.45em 0.6em; margin: 0 0.25em; line-height: 1; border-radius: 0.35em;\">\n    unilateral facial weakness\n    <span style=\"font-size: 0.8em; font-weight: bold; line-height: 1; border-radius: 0.35em; vertical-align: middle; margin-left: 0.5rem\">PROBLEM</span>\n</mark>\n, a careful and systematic evaluation is necessary to identify the cause. \n<mark class=\"entity\" style=\"background: #2ca02c; padding: 0.45em 0.6em; margin: 0 0.25em; line-height: 1; border-radius: 0.35em;\">\n    Idiopathic facial paralysis\n    <span style=\"font-size: 0.8em; font-weight: bold; line-height: 1; border-radius: 0.35em; vertical-align: middle; margin-left: 0.5rem\">PROBLEM</span>\n</mark>\n (Bell's \n<mark class=\"entity\" style=\"background: #2ca02c; padding: 0.45em 0.6em; margin: 0 0.25em; line-height: 1; border-radius: 0.35em;\">\n    palsy\n    <span style=\"font-size: 0.8em; font-weight: bold; line-height: 1; border-radius: 0.35em; vertical-align: middle; margin-left: 0.5rem\">PROBLEM</span>\n</mark>\n) is a diagnosis of exclusion. It is also the most common cause of \n<mark class=\"entity\" style=\"background: #2ca02c; padding: 0.45em 0.6em; margin: 0 0.25em; line-height: 1; border-radius: 0.35em;\">\n    unilateral facial weakness\n    <span style=\"font-size: 0.8em; font-weight: bold; line-height: 1; border-radius: 0.35em; vertical-align: middle; margin-left: 0.5rem\">PROBLEM</span>\n</mark>\n seen by primary care physicians. The most important aspect of initial treatment is \n<mark class=\"entity\" style=\"background: #d62728; padding: 0.45em 0.6em; margin: 0 0.25em; line-height: 1; border-radius: 0.35em;\">\n    eye protection\n    <span style=\"font-size: 0.8em; font-weight: bold; line-height: 1; border-radius: 0.35em; vertical-align: middle; margin-left: 0.5rem\">TREATMENT</span>\n</mark>\n. Administration of systemic \n<mark class=\"entity\" style=\"background: #1f77b4; padding: 0.45em 0.6em; margin: 0 0.25em; line-height: 1; border-radius: 0.35em;\">\n    oral corticosteroids\n    <span style=\"font-size: 0.8em; font-weight: bold; line-height: 1; border-radius: 0.35em; vertical-align: middle; margin-left: 0.5rem\">MEDICATION</span>\n</mark>\n may lessen severity and duration of symptoms.</div></span>"
     },
     "metadata": {},
     "output_type": "display_data"
    },
    {
     "name": "stdout",
     "output_type": "stream",
     "text": [
      "###################\n",
      "Sentence: Retained endobronchial foreign body removal facilitated by steroid therapy of an obstructing, inflammatory polyp. Oral and topical steroids were used to induce regression in an inflammatory, obstructing endobronchial polyp caused by a retained foreign body. The FB (a peanut half), which had been present for over six months, was then able to be easily and bloodlessly retrieved with fiberoptic bronchoscopy. \n"
     ]
    },
    {
     "data": {
      "text/plain": "<IPython.core.display.HTML object>",
      "text/html": "<span class=\"tex2jax_ignore\"><div class=\"entities\" style=\"line-height: 2.5; direction: ltr\">Retained endobronchial foreign body removal facilitated by steroid therapy of an obstructing, inflammatory polyp. Oral and topical steroids were used to induce regression in an inflammatory, obstructing endobronchial polyp caused by a retained foreign body. The FB (a peanut half), which had been present for over six months, was then able to be easily and bloodlessly retrieved with fiberoptic bronchoscopy. </div></span>"
     },
     "metadata": {},
     "output_type": "display_data"
    },
    {
     "name": "stdout",
     "output_type": "stream",
     "text": [
      "###################\n"
     ]
    }
   ],
   "source": [
    "# test the pipeline on the dataset\n",
    "for index, row in partial_df.iterrows():\n",
    "    doc = nlp(row[0])\n",
    "    print(\"Sentence:\", doc.text)\n",
    "    # print(nlp.pipe_names)\n",
    "\n",
    "    for ent in doc.ents:\n",
    "        print(ent, ent._.is_negated, ent._.is_family)\n",
    "\n",
    "    visualize_ent(doc)\n",
    "\n",
    "    print(\"###################\")"
   ],
   "metadata": {
    "collapsed": false,
    "pycharm": {
     "name": "#%%\n"
    }
   }
  }
 ],
 "metadata": {
  "kernelspec": {
   "display_name": "Python 3",
   "language": "python",
   "name": "python3"
  },
  "language_info": {
   "codemirror_mode": {
    "name": "ipython",
    "version": 2
   },
   "file_extension": ".py",
   "mimetype": "text/x-python",
   "name": "python",
   "nbconvert_exporter": "python",
   "pygments_lexer": "ipython2",
   "version": "2.7.6"
  }
 },
 "nbformat": 4,
 "nbformat_minor": 0
}